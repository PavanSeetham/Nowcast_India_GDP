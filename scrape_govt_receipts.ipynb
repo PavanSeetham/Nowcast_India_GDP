{
 "cells": [
  {
   "cell_type": "code",
   "execution_count": 2,
   "metadata": {},
   "outputs": [],
   "source": [
    "import requests\n",
    "from bs4 import BeautifulSoup\n",
    "from urllib.request import urlopen\n",
    "from lxml import etree\n",
    "import pandas as pd\n"
   ]
  },
  {
   "cell_type": "code",
   "execution_count": 38,
   "metadata": {},
   "outputs": [],
   "source": [
    "# code to pick up the revenue value on the page\n",
    "def get_rev_receipt():\n",
    "    # The url has a distinct pattern. i represents the month and j represents the year\n",
    "    yrs = [j for j in range(2004,2022)]\n",
    "    for j in range(1, len(yrs)):\n",
    "        for i in range(1, 13):\n",
    "            url = f\"https://cga.nic.in/MonthlyReport/Published/{i}/{yrs[j-1]}-{yrs[j]}.aspx\"\n",
    "\n",
    "            # access the webpage\n",
    "            response = urlopen(url)\n",
    "            # parser\n",
    "            htmlparser = etree.HTMLParser()\n",
    "            # convert into xpath compaible object \n",
    "            tree = etree.parse(response, htmlparser)\n",
    "            # search and yield the revenue along with date\n",
    "            yield {\n",
    "                \"Revenue\" : tree.xpath(\"(.//td/p[@align = 'right'])[2]/text()\"),\n",
    "                \"date\": f\"{i} - {yrs[j-1]}-{yrs[j]}\"\n",
    "                }"
   ]
  },
  {
   "cell_type": "code",
   "execution_count": 39,
   "metadata": {},
   "outputs": [],
   "source": [
    "# feed the generator object into a dataframe\n",
    "new = get_rev_receipt()\n",
    "data = pd.DataFrame(new)"
   ]
  },
  {
   "cell_type": "code",
   "execution_count": 42,
   "metadata": {},
   "outputs": [],
   "source": [
    "# convert dataframe to excel for cleaning\n",
    "data.to_excel(\"govt_revenues.xlsx\")"
   ]
  },
  {
   "cell_type": "markdown",
   "metadata": {},
   "source": [
    "The output of this code needs a bit of cleaning which was done in excel. Missing values were manually added"
   ]
  }
 ],
 "metadata": {
  "interpreter": {
   "hash": "cbd13f7d000a32a685ba22b2c21821fc09615bbc3bed49a86b90b55f3e5a427a"
  },
  "kernelspec": {
   "display_name": "Python 3.8.10 64-bit ('Scrapy_workspace': conda)",
   "language": "python",
   "name": "python3"
  },
  "language_info": {
   "codemirror_mode": {
    "name": "ipython",
    "version": 3
   },
   "file_extension": ".py",
   "mimetype": "text/x-python",
   "name": "python",
   "nbconvert_exporter": "python",
   "pygments_lexer": "ipython3",
   "version": "3.8.10"
  },
  "orig_nbformat": 4
 },
 "nbformat": 4,
 "nbformat_minor": 2
}
